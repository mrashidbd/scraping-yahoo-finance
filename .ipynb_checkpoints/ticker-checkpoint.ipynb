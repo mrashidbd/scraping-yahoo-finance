{
 "cells": [
  {
   "cell_type": "code",
   "execution_count": 1,
   "id": "1c54f70a-475e-45ce-a7a3-94ac31571788",
   "metadata": {},
   "outputs": [],
   "source": [
    "import os\n",
    "import sys\n",
    "import time\n",
    "import json\n",
    "import requests\n",
    "from pathlib import Path\n",
    "from bs4 import BeautifulSoup"
   ]
  },
  {
   "cell_type": "code",
   "execution_count": 4,
   "id": "9a84d301-bbd7-40da-96fb-6541760b1553",
   "metadata": {},
   "outputs": [],
   "source": [
    "def save_file(file_path, file_data):\n",
    "    file = open(file_path, \"w\")\n",
    "    file.write(file_data)\n",
    "    file.close()\n",
    "    print('Saved successfully at ' + file_path)"
   ]
  },
  {
   "cell_type": "code",
   "execution_count": null,
   "id": "33309fdc-cd07-4838-a933-3c4818938b42",
   "metadata": {},
   "outputs": [],
   "source": []
  }
 ],
 "metadata": {
  "kernelspec": {
   "display_name": "Python 3 (ipykernel)",
   "language": "python",
   "name": "python3"
  },
  "language_info": {
   "codemirror_mode": {
    "name": "ipython",
    "version": 3
   },
   "file_extension": ".py",
   "mimetype": "text/x-python",
   "name": "python",
   "nbconvert_exporter": "python",
   "pygments_lexer": "ipython3",
   "version": "3.10.12"
  }
 },
 "nbformat": 4,
 "nbformat_minor": 5
}
