{
 "cells": [
  {
   "cell_type": "code",
   "execution_count": 28,
   "id": "1c54f70a-475e-45ce-a7a3-94ac31571788",
   "metadata": {},
   "outputs": [],
   "source": [
    "import os\n",
    "import sys\n",
    "import time\n",
    "import json\n",
    "import requests\n",
    "from pathlib import Path\n",
    "from bs4 import BeautifulSoup"
   ]
  },
  {
   "cell_type": "code",
   "execution_count": 29,
   "id": "9a84d301-bbd7-40da-96fb-6541760b1553",
   "metadata": {},
   "outputs": [],
   "source": [
    "def save_file(file_path, file_data):\n",
    "    file = open(file_path, \"w\")\n",
    "    file.write(file_data)\n",
    "    file.close()\n",
    "    print('Saved successfully at ' + file_path)"
   ]
  },
  {
   "cell_type": "code",
   "execution_count": 35,
   "id": "33309fdc-cd07-4838-a933-3c4818938b42",
   "metadata": {},
   "outputs": [
    {
     "name": "stdout",
     "output_type": "stream",
     "text": [
      "['2.02', '-0.0', '-0.2']\n"
     ]
    }
   ],
   "source": [
    "header = {'User-Agent': 'Mozilla/5.0 (Windows NT 10.0; Win64; x64) AppleWebKit/537.36 (KHTML, like Gecko) '\n",
    "                            'Chrome/71.0.3578.98 Safari/537.36'}\n",
    "response = requests.get('https://finance.yahoo.com/quote/ATO.PA', headers=header)\n",
    "soup = BeautifulSoup(response.text, \"html.parser\")\n",
    "rootNode = soup.find(\"section\", {\"data-testid\" : \"quote-price\"}).find(\"section\", {\"class\" : \"svelte-mgkamr\"})\n",
    "entries = rootNode.findAll(\"fin-streamer\")\n",
    "\n",
    "data_list = []\n",
    "    \n",
    "for entry in entries:\n",
    "    q = round(float(entry.get(\"data-value\")), 2)\n",
    "    data_list.append(str(q))\n",
    "\n",
    "print(data_list)"
   ]
  },
  {
   "cell_type": "code",
   "execution_count": 37,
   "id": "c4e83fb9-269f-4fa1-8432-6d20faa1322b",
   "metadata": {},
   "outputs": [
    {
     "name": "stdout",
     "output_type": "stream",
     "text": [
      "{'price': '2.02', 'change': '-0.0', 'percent': '-0.2%'}\n"
     ]
    }
   ],
   "source": [
    "\n",
    "stock = {\n",
    "    'price': data_list[0],\n",
    "    'change': (\"+\" if float(data_list[1]) > 0 else \"\") + data_list[1],\n",
    "    'percent': (\"+\" if float(data_list[2]) > 0 else \"\") + data_list[2] + '%'\n",
    "}\n",
    "\n",
    "# stock = {\n",
    "#     'price': data_list[0],\n",
    "#     'change': data_list[1],\n",
    "#     'percent': data_list[2] + '%'\n",
    "# }\n",
    "\n",
    "\n",
    "\n",
    "print(stock)"
   ]
  },
  {
   "cell_type": "code",
   "execution_count": null,
   "id": "bbd3c584-f3d8-429f-b0fd-208e183f9678",
   "metadata": {},
   "outputs": [],
   "source": []
  }
 ],
 "metadata": {
  "kernelspec": {
   "display_name": "Python 3 (ipykernel)",
   "language": "python",
   "name": "python3"
  },
  "language_info": {
   "codemirror_mode": {
    "name": "ipython",
    "version": 3
   },
   "file_extension": ".py",
   "mimetype": "text/x-python",
   "name": "python",
   "nbconvert_exporter": "python",
   "pygments_lexer": "ipython3",
   "version": "3.10.12"
  }
 },
 "nbformat": 4,
 "nbformat_minor": 5
}
