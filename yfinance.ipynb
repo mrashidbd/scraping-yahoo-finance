{
 "cells": [
  {
   "cell_type": "code",
   "execution_count": 4,
   "id": "d7dc5d37-07ba-40c7-9b26-31d107ebe98a",
   "metadata": {},
   "outputs": [],
   "source": [
    "import os\n",
    "import sys\n",
    "import yfinance as yf\n",
    "from pathlib import Path"
   ]
  },
  {
   "cell_type": "code",
   "execution_count": 16,
   "id": "41da7b92-4718-433e-a64a-1b25c6ab198f",
   "metadata": {},
   "outputs": [],
   "source": [
    "file_path = \"py-data-chart2.json\""
   ]
  },
  {
   "cell_type": "code",
   "execution_count": 22,
   "id": "f9387dd8-6f77-460d-aa8c-325bddacdef6",
   "metadata": {},
   "outputs": [],
   "source": [
    "# file save function\n",
    "def save_file(file_path, file_data):\n",
    "    file = open(file_path, \"w\")\n",
    "    file.write(file_data)\n",
    "    file.close()\n",
    "    print('Saved successfully at ' + file_path)"
   ]
  },
  {
   "cell_type": "code",
   "execution_count": 18,
   "id": "d6857049-d8f3-45c4-aa6c-6b631cf3280f",
   "metadata": {},
   "outputs": [],
   "source": [
    "# atos = yf.Ticker(\"ATO.PA\")\n",
    "# data = atos.history(period=\"1mo\")\n",
    "# data[\"Date\"] = data.index\n",
    "# data = data[[\"Date\", \"Open\", \"High\", \"Low\", \"Close\", \"Volume\"]]\n",
    "# data.reset_index(drop=True, inplace=True)\n",
    "# print(data)\n",
    "#chart_data = data.to_json()\n",
    "\n",
    "#save_file(file_path, chart_data)"
   ]
  },
  {
   "cell_type": "code",
   "execution_count": 25,
   "id": "2acd9bab-a596-4d72-b7f8-f38d45723803",
   "metadata": {},
   "outputs": [
    {
     "name": "stdout",
     "output_type": "stream",
     "text": [
      "                        Date Price  High   Low   Volume\n",
      "0  2024-04-02 00:00:00+02:00  1.89  2.06  1.86  3051160\n",
      "1  2024-04-03 00:00:00+02:00  1.86  1.93  1.79  1704061\n",
      "2  2024-04-04 00:00:00+02:00  2.01  2.02  1.88  2415247\n",
      "3  2024-04-05 00:00:00+02:00  1.94  2.09  1.92  2314327\n",
      "4  2024-04-08 00:00:00+02:00  2.31  2.53  2.04  8986428\n",
      "5  2024-04-09 00:00:00+02:00  1.99  2.50  1.95  7102375\n",
      "6  2024-04-10 00:00:00+02:00  1.78  2.03  1.76  4068070\n",
      "7  2024-04-11 00:00:00+02:00  1.71  1.83  1.68  3120628\n",
      "8  2024-04-12 00:00:00+02:00  1.78  1.80  1.71  1476342\n",
      "9  2024-04-15 00:00:00+02:00  1.85  1.87  1.79  1757366\n",
      "10 2024-04-16 00:00:00+02:00  1.82  1.86  1.77  1131858\n",
      "11 2024-04-17 00:00:00+02:00  1.77  1.86  1.77  1201340\n",
      "12 2024-04-18 00:00:00+02:00  1.78  1.87  1.78  1121753\n",
      "13 2024-04-19 00:00:00+02:00  1.85  1.85  1.75  3979803\n",
      "14 2024-04-22 00:00:00+02:00  1.92  1.95  1.83  1838215\n",
      "15 2024-04-23 00:00:00+02:00  1.94  1.98  1.88  1419479\n",
      "16 2024-04-24 00:00:00+02:00  1.99  2.05  1.94  1760441\n",
      "17 2024-04-25 00:00:00+02:00  1.89  1.95  1.78  2327745\n",
      "18 2024-04-26 00:00:00+02:00  1.91  1.93  1.86  1141312\n",
      "19 2024-04-29 00:00:00+02:00  2.27  2.38  2.12  6868313\n",
      "20 2024-04-30 00:00:00+02:00  2.02  2.36  1.98  4140973\n",
      "Saved successfully at py-data-chart2.json\n"
     ]
    }
   ],
   "source": [
    "# Fetching data for the ticker \"ATO.PA\"\n",
    "atos = yf.Ticker(\"ATO.PA\")\n",
    "data = atos.history(period=\"1mo\")\n",
    "\n",
    "# Adding the date as a separate column\n",
    "data[\"Date\"] = data.index\n",
    "\n",
    "# Renaming 'Close' to 'Price'\n",
    "data.rename(columns={\"Close\": \"Price\"}, inplace=True)\n",
    "\n",
    "# Selecting the relevant columns and resetting the index\n",
    "data = data[[\"Date\", \"Price\", \"High\", \"Low\", \"Volume\"]]\n",
    "data.reset_index(drop=True, inplace=True)\n",
    "\n",
    "# Rounding the 'High', 'Low', and 'Price' columns to 2 decimal places\n",
    "data[\"High\"] = data[\"High\"].round(2)\n",
    "data[\"Low\"] = data[\"Low\"].round(2)\n",
    "data[\"Price\"] = data[\"Price\"].round(2)\n",
    "\n",
    "# Ensuring all numbers have two digits after the decimal\n",
    "data[\"High\"] = data[\"High\"].map(\"{:.2f}\".format)\n",
    "data[\"Low\"] = data[\"Low\"].map(\"{:.2f}\".format)\n",
    "data[\"Price\"] = data[\"Price\"].map(\"{:.2f}\".format)\n",
    "\n",
    "print(data)\n",
    "\n",
    "chart_data = data.to_json()\n",
    "\n",
    "save_file(file_path, chart_data)"
   ]
  },
  {
   "cell_type": "code",
   "execution_count": null,
   "id": "29d0301c-8b33-4285-9918-98ecadf7d443",
   "metadata": {},
   "outputs": [],
   "source": []
  }
 ],
 "metadata": {
  "kernelspec": {
   "display_name": "Python 3 (ipykernel)",
   "language": "python",
   "name": "python3"
  },
  "language_info": {
   "codemirror_mode": {
    "name": "ipython",
    "version": 3
   },
   "file_extension": ".py",
   "mimetype": "text/x-python",
   "name": "python",
   "nbconvert_exporter": "python",
   "pygments_lexer": "ipython3",
   "version": "3.10.12"
  }
 },
 "nbformat": 4,
 "nbformat_minor": 5
}
